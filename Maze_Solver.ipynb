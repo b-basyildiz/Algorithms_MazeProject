{
 "cells": [
  {
   "cell_type": "code",
   "execution_count": 19,
   "metadata": {},
   "outputs": [],
   "source": [
    "#read in file \n",
    "fin = open(\"input.txt\",\"r\")\n",
    "lines = fin.readlines()\n",
    "i = 0;\n",
    "for line in lines:\n",
    "    if i == 0:\n",
    "        n_rows = int(line[0]) \n",
    "        n_cols = int(line[2])\n",
    "        points = [ [0]*n_rows for k in range(n_cols)]\n",
    "    else:\n",
    "        j = 0\n",
    "        for c in line.replace('\\n','').split(' '): \n",
    "            points[i-1][j] = int(c)\n",
    "            j += 1\n",
    "    i += 1"
   ]
  },
  {
   "cell_type": "code",
   "execution_count": 63,
   "metadata": {},
   "outputs": [],
   "source": [
    "#We will represent a graph as a dictionary of tuples\n",
    "graph = {}\n",
    "starting_node = (0,0)\n",
    "queue = [starting_node] # nodes that need to be processed\n",
    "visitied = [] # nodes that we have found\n",
    "move_bool = 1  # If 1, then we are moving horiz/vert. If -1, then we are moving diagonal\n",
    "path = [] #Path of the solution\n",
    "while(True):\n",
    "    m = points[queue[0][0]][queue[0][1]]\n",
    "    if(m < 0):\n",
    "        m = abs(m)\n",
    "        move_bool = move_bool*-1\n",
    "\n",
    "    curr_node = queue.pop(0)\n",
    "    if(curr_node in visitied):\n",
    "        continue\n",
    "    visitied.append(curr_node)\n",
    "\n",
    "    if(points[curr_node[0]][curr_node[1]] == 0):\n",
    "        break\n",
    "\n",
    "    graph[curr_node] = []\n",
    "    \n",
    "    if(move_bool):\n",
    "        if (curr_node[1] - m >= 0): #moving left\n",
    "            queue.append((curr_node[0],curr_node[1] - m))\n",
    "            graph[curr_node].append((curr_node[0],curr_node[1] - m))\n",
    "        if (curr_node[0] - m >= 0): #moving up\n",
    "            queue.append((curr_node[0] - m,curr_node[1]))\n",
    "            graph[curr_node].append((curr_node[0] - m,curr_node[1]))\n",
    "        if (curr_node[1] + m < n_cols): #moving right \n",
    "            queue.append((curr_node[0],curr_node[1] + m))\n",
    "            graph[curr_node].append((curr_node[0],curr_node[1] + m))\n",
    "        if (curr_node[0] + m < n_rows):\n",
    "            queue.append((curr_node[0] + m,curr_node[1]))\n",
    "            graph[curr_node].append((curr_node[0] + m,curr_node[1]))\n",
    "    else:\n",
    "        if (curr_node[1] + m < n_cols):\n",
    "            if (curr_node[0] + m < n_rows):\n",
    "                queue.append((curr_node[0] + m, curr_node[1] + m))# bottom right\n",
    "                graph[curr_node].append((curr_node[0] + m, curr_node[1] + m))\n",
    "            if (curr_node[0] - m >= 0):\n",
    "                queue.append((curr_node[0] - m, curr_node[1] + m))# top right\n",
    "                graph[curr_node].append((curr_node[0] - m, curr_node[1] + m))\n",
    "        if (curr_node[1] - m >= 0):\n",
    "            if (curr_node[0] + m < n_rows):\n",
    "                queue.append((curr_node[0] + m, curr_node[1] - m))# bottom left\n",
    "                graph[curr_node].append((curr_node[0] + m, curr_node[1] - m))\n",
    "            if (curr_node[0] - m >= 0):\n",
    "                queue.append((curr_node[0] - m, curr_node[1] - m))# top left\n",
    "                graph[curr_node].append((curr_node[0] - m, curr_node[1] - m))\n"
   ]
  },
  {
   "cell_type": "code",
   "execution_count": 64,
   "metadata": {},
   "outputs": [],
   "source": [
    "parent_list = list(graph.keys())\n",
    "all_children = list(graph.values())\n",
    "path = []\n",
    "path.append(curr_node)"
   ]
  },
  {
   "cell_type": "code",
   "execution_count": 66,
   "metadata": {},
   "outputs": [],
   "source": [
    "path = []\n",
    "curr_node = (7,7)\n",
    "path.append((curr_node))"
   ]
  },
  {
   "cell_type": "code",
   "execution_count": 89,
   "metadata": {},
   "outputs": [
    {
     "name": "stdout",
     "output_type": "stream",
     "text": [
      "(4, 6)\n"
     ]
    }
   ],
   "source": [
    "for child_list in all_children:\n",
    "    if(curr_node in child_list):\n",
    "        parent_index = all_children.index(child_list)\n",
    "parent = parent_list[parent_index]\n",
    "path.append(parent)\n",
    "curr_node = parent\n",
    "print(curr_node)"
   ]
  },
  {
   "cell_type": "code",
   "execution_count": 55,
   "metadata": {},
   "outputs": [],
   "source": [
    "parent_list = list(graph.keys())\n",
    "all_children = list(graph.values())\n",
    "for arr in all_children:\n",
    "    if((7,7) in arr):\n",
    "        parent_index = all_children.index(arr)\n",
    "parent = parent_list[parent_index]"
   ]
  }
 ],
 "metadata": {
  "interpreter": {
   "hash": "31f2aee4e71d21fbe5cf8b01ff0e069b9275f58929596ceb00d14d90e3e16cd6"
  },
  "kernelspec": {
   "display_name": "Python 3.8.2 64-bit",
   "language": "python",
   "name": "python3"
  },
  "language_info": {
   "codemirror_mode": {
    "name": "ipython",
    "version": 3
   },
   "file_extension": ".py",
   "mimetype": "text/x-python",
   "name": "python",
   "nbconvert_exporter": "python",
   "pygments_lexer": "ipython3",
   "version": "3.8.2"
  },
  "orig_nbformat": 4
 },
 "nbformat": 4,
 "nbformat_minor": 2
}
