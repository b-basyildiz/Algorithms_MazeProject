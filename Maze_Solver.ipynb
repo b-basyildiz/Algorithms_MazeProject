{
 "cells": [
  {
   "cell_type": "code",
   "execution_count": 2,
   "metadata": {},
   "outputs": [],
   "source": [
    "#read in file \n",
    "fin = open(\"input.txt\",\"r\")\n",
    "lines = fin.readlines()\n",
    "i = 0;\n",
    "for line in lines:\n",
    "    if i == 0:\n",
    "        n_rows = int(line[0]) \n",
    "        n_cols = int(line[2])\n",
    "        points = [ [0]*n_rows for k in range(n_cols)]\n",
    "    else:\n",
    "        j = 0\n",
    "        for c in line.replace('\\n','').split(' '): \n",
    "            points[i-1][j] = int(c)\n",
    "            j += 1\n",
    "    i += 1"
   ]
  },
  {
   "cell_type": "code",
   "execution_count": 59,
   "metadata": {},
   "outputs": [
    {
     "name": "stdout",
     "output_type": "stream",
     "text": [
      "(1, 1) (5, 1) (8, 4) (4, 8) (1, 5) (5, 1) (2, 1) (2, 4) (6, 4) (6, 8) (7, 7) (1, 1) (5, 5) (3, 7) (8, 2) (8, 4) (8, 8) "
     ]
    }
   ],
   "source": [
    "#We will represent a graph as a dictionary of tuples\n",
    "class node:\n",
    "    def __init__(self,point,parent,direction):\n",
    "        self.point = point\n",
    "        self.parent = parent\n",
    "        self.direction = direction\n",
    "graph = {}\n",
    "starting_node = node((0,0),None,1)\n",
    "queue = [starting_node] # nodes that need to be processed\n",
    "visitied = [] # nodes that we have found\n",
    "move_bool = 1  # If 1, then we are moving horiz/vert. If -1, then we are moving diagonal\n",
    "path = [] #Path of the solution\n",
    "while(True):\n",
    "    curr_node = queue.pop(0)\n",
    "    curr_point = curr_node.point\n",
    "    m = points[curr_point[0]][curr_point[1]]\n",
    "    if(m == 0):\n",
    "        break\n",
    "\n",
    "    direction = curr_node.direction\n",
    "    if(m < 0):\n",
    "        m = abs(m)\n",
    "        direction *= -1\n",
    "    \n",
    "    if((curr_point[0],curr_point[1],direction) in visitied):\n",
    "        continue\n",
    "    visitied.append((curr_point[0],curr_point[1],direction))\n",
    "    \n",
    "    if(direction > 0):\n",
    "        if (curr_point[1] - m >= 0): #moving left\n",
    "            queue.append(node((curr_point[0],curr_point[1] - m),curr_node,1))\n",
    "        if (curr_point[0] - m >= 0): #moving up\n",
    "            queue.append(node((curr_point[0] - m,curr_point[1]),curr_node,1))\n",
    "        if (curr_point[1] + m < n_cols): #moving right \n",
    "            queue.append(node((curr_point[0],curr_point[1] + m),curr_node,1))\n",
    "        if (curr_point[0] + m < n_rows): #moving down\n",
    "            queue.append(node((curr_point[0] + m,curr_point[1]),curr_node,1))\n",
    "    else:\n",
    "        if (curr_point[1] + m < n_cols):\n",
    "            if (curr_point[0] + m < n_rows): #bottom right\n",
    "                queue.append(node((curr_point[0] + m, curr_point[1] + m),curr_node,-1))\n",
    "            if (curr_point[0] - m >= 0): # top right\n",
    "                queue.append(node((curr_point[0] - m, curr_point[1] + m),curr_node,-1))\n",
    "        if (curr_point[1] - m >= 0):\n",
    "            if (curr_point[0] + m < n_rows): # bottom left\n",
    "                queue.append(node((curr_point[0] + m, curr_point[1] - m),curr_node,-1))\n",
    "            if (curr_point[0] - m >= 0): # top left\n",
    "                queue.append(node((curr_point[0] - m, curr_point[1] - m),curr_node,-1))\n",
    "\n",
    "solution = []\n",
    "while(curr_node != starting_node):\n",
    "    solution.append((curr_node.point[0] + 1, curr_node.point[1] + 1))\n",
    "    curr_node = curr_node.parent\n",
    "solution.append((starting_node.point[0] + 1, starting_node.point[1] + 1))\n",
    "solution = solution[::-1]\n",
    "for point in solution:\n",
    "    print(point,end=\" \")"
   ]
  },
  {
   "cell_type": "code",
   "execution_count": 12,
   "metadata": {},
   "outputs": [
    {
     "name": "stdout",
     "output_type": "stream",
     "text": [
      "(1, 1) (5, 1) (8, 4) (4, 8) (1, 5) (5, 1) (2, 1) (2, 4) (6, 4) (6, 8) (7, 7) (1, 1) (5, 5) (3, 7) (8, 2) (8, 4) (8, 8) "
     ]
    }
   ],
   "source": [
    "#We will represent a graph as a dictionary of tuples\n",
    "class node:\n",
    "    def __init__(self,point,parent):\n",
    "        self.point = point\n",
    "        self.parent = parent\n",
    "\n",
    "starting_node = node([0,0,1],None)\n",
    "queue = [starting_node] # nodes that need to be processed\n",
    "visitied = [] # nodes that we have found\n",
    "\n",
    "while(True):\n",
    "    curr_node = queue.pop(0)\n",
    "    curr_point = curr_node.point\n",
    "\n",
    "    m = points[curr_point[0]][curr_point[1]]\n",
    "    if(m == 0): #Maze end\n",
    "        break\n",
    "\n",
    "    if(m < 0): # Red square\n",
    "        m = abs(m)\n",
    "        curr_point[2] *= -1\n",
    "    \n",
    "    if(curr_point in visitied):\n",
    "        continue\n",
    "    visitied.append(curr_point)\n",
    "    \n",
    "    if(curr_point[2] > 0): # horizontal/vertical\n",
    "        if (curr_point[1] - m >= 0): #moving left\n",
    "            queue.append(node([curr_point[0],curr_point[1] - m,1],curr_node))\n",
    "        if (curr_point[0] - m >= 0): #moving up\n",
    "            queue.append(node([curr_point[0] - m,curr_point[1],1],curr_node))\n",
    "        if (curr_point[1] + m < n_cols): #moving right \n",
    "            queue.append(node([curr_point[0],curr_point[1] + m,1],curr_node))\n",
    "        if (curr_point[0] + m < n_rows): #moving down\n",
    "            queue.append(node([curr_point[0] + m,curr_point[1],1],curr_node))\n",
    "    else: #diagonal\n",
    "        if (curr_point[1] + m < n_cols):\n",
    "            if (curr_point[0] + m < n_rows): #bottom right\n",
    "                queue.append(node([curr_point[0] + m, curr_point[1] + m,-1],curr_node))\n",
    "            if (curr_point[0] - m >= 0): # top right\n",
    "                queue.append(node([curr_point[0] - m, curr_point[1] + m,-1],curr_node))\n",
    "        if (curr_point[1] - m >= 0):\n",
    "            if (curr_point[0] + m < n_rows): # bottom left\n",
    "                queue.append(node([curr_point[0] + m, curr_point[1] - m,-1],curr_node))\n",
    "            if (curr_point[0] - m >= 0): # top left\n",
    "                queue.append(node([curr_point[0] - m, curr_point[1] - m,-1],curr_node))\n",
    "\n",
    "solution = []\n",
    "while(curr_node != starting_node):\n",
    "    solution.append((curr_node.point[0] + 1, curr_node.point[1] + 1)) #convert nodes like [0,0] -> [1,1] for output purposes\n",
    "    curr_node = curr_node.parent\n",
    "solution.append((starting_node.point[0] + 1, starting_node.point[1] + 1))\n",
    "\n",
    "solution = solution[::-1]\n",
    "for point in solution:\n",
    "    print(point,end=\" \")"
   ]
  },
  {
   "cell_type": "code",
   "execution_count": null,
   "metadata": {},
   "outputs": [],
   "source": []
  }
 ],
 "metadata": {
  "interpreter": {
   "hash": "31f2aee4e71d21fbe5cf8b01ff0e069b9275f58929596ceb00d14d90e3e16cd6"
  },
  "kernelspec": {
   "display_name": "Python 3.8.2 64-bit",
   "language": "python",
   "name": "python3"
  },
  "language_info": {
   "codemirror_mode": {
    "name": "ipython",
    "version": 3
   },
   "file_extension": ".py",
   "mimetype": "text/x-python",
   "name": "python",
   "nbconvert_exporter": "python",
   "pygments_lexer": "ipython3",
   "version": "3.8.2"
  },
  "orig_nbformat": 4
 },
 "nbformat": 4,
 "nbformat_minor": 2
}
